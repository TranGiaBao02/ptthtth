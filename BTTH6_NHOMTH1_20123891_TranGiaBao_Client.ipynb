{
 "cells": [
  {
   "cell_type": "code",
   "execution_count": 1,
   "metadata": {},
   "outputs": [
    {
     "name": "stdout",
     "output_type": "stream",
     "text": [
      "Kết quả từ server: Tổng = 42\n",
      "Kết quả từ server: Tổng = 15\n"
     ]
    }
   ],
   "source": [
    "import socket\n",
    "\n",
    "\n",
    "client_socket = socket.socket(socket.AF_INET, socket.SOCK_STREAM)\n",
    "\n",
    "server_address = ('localhost', 12345)\n",
    "\n",
    "client_socket.connect(server_address)\n",
    "\n",
    "while True:\n",
    "    data = input(\"Nhập chuỗi các số nguyên (hoặc nhập '.' để kết thúc): \")\n",
    "    if data == '.':\n",
    "        break\n",
    "\n",
    "    with open(\"data.txt\", \"w\") as file:\n",
    "        file.write(data)\n",
    "        \n",
    "    client_socket.send(data.encode())\n",
    "\n",
    "    result = client_socket.recv(1024).decode()\n",
    "    print(f\"Kết quả từ server: Tổng = {result}\")\n"
   ]
  }
 ],
 "metadata": {
  "kernelspec": {
   "display_name": "Python 3.10.11 64-bit (microsoft store)",
   "language": "python",
   "name": "python3"
  },
  "language_info": {
   "codemirror_mode": {
    "name": "ipython",
    "version": 3
   },
   "file_extension": ".py",
   "mimetype": "text/x-python",
   "name": "python",
   "nbconvert_exporter": "python",
   "pygments_lexer": "ipython3",
   "version": "3.10.11"
  },
  "orig_nbformat": 4,
  "vscode": {
   "interpreter": {
    "hash": "65a440aeac0c89e2af7569e0aa53b64434c4b69eb6285e2b0d174d9bca190d54"
   }
  }
 },
 "nbformat": 4,
 "nbformat_minor": 2
}
