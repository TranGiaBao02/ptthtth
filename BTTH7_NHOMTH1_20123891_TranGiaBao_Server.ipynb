{
 "cells": [
  {
   "cell_type": "code",
   "execution_count": 1,
   "metadata": {},
   "outputs": [
    {
     "name": "stdout",
     "output_type": "stream",
     "text": [
      "Đang lắng nghe kết nối...\n",
      "Kết nối từ ('127.0.0.1', 30599)\n",
      "Kết nối từ 127.0.0.1:30599\n"
     ]
    }
   ],
   "source": [
    "import socket\n",
    "\n",
    "server_socket = socket.socket(socket.AF_INET, socket.SOCK_STREAM)\n",
    "\n",
    "server_address = ('localhost', 12345)\n",
    "\n",
    "server_socket.bind(server_address)\n",
    "\n",
    "server_socket.listen(1)\n",
    "print(\"Đang lắng nghe kết nối...\")\n",
    "\n",
    "def calculate_sum(numbers):\n",
    "    lines = numbers.strip().split('\\n')\n",
    "    sums = []\n",
    "    for line in lines:\n",
    "        nums = line.split()\n",
    "        nums = [int(num) for num in nums]\n",
    "        line_sum = sum(nums)\n",
    "        sums.append(line_sum)\n",
    "    return sums\n",
    "\n",
    "def handle_client(client_socket, addr):\n",
    "    print(f\"Kết nối từ {addr[0]}:{addr[1]}\")\n",
    "    while True:\n",
    "        data = client_socket.recv(1024).decode()\n",
    "        sums = calculate_sum(data)\n",
    "        response = '\\n'.join(str(sum) for sum in sums)\n",
    "        client_socket.send(response.encode())\n",
    "\n",
    "while True:\n",
    "    \n",
    "    client_socket, client_address = server_socket.accept()\n",
    "    print(f\"Kết nối từ {client_address}\")\n",
    "    while True:\n",
    "        handle_client(client_socket, client_address)\n"
   ]
  }
 ],
 "metadata": {
  "kernelspec": {
   "display_name": "Python 3.10.11 64-bit (microsoft store)",
   "language": "python",
   "name": "python3"
  },
  "language_info": {
   "codemirror_mode": {
    "name": "ipython",
    "version": 3
   },
   "file_extension": ".py",
   "mimetype": "text/x-python",
   "name": "python",
   "nbconvert_exporter": "python",
   "pygments_lexer": "ipython3",
   "version": "3.10.11"
  },
  "orig_nbformat": 4,
  "vscode": {
   "interpreter": {
    "hash": "65a440aeac0c89e2af7569e0aa53b64434c4b69eb6285e2b0d174d9bca190d54"
   }
  }
 },
 "nbformat": 4,
 "nbformat_minor": 2
}
