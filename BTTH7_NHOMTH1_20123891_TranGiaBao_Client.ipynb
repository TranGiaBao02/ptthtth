{
 "cells": [
  {
   "cell_type": "code",
   "execution_count": 1,
   "metadata": {},
   "outputs": [
    {
     "name": "stdout",
     "output_type": "stream",
     "text": [
      "Menu:\n",
      "1. Nhập dữ liệu\n",
      "2. Đọc từ tệp data.txt\n",
      "3. Kết thúc\n",
      "Kết quả từ server: Tổng = 6\n",
      "15\n",
      "24\n",
      "Menu:\n",
      "1. Nhập dữ liệu\n",
      "2. Đọc từ tệp data.txt\n",
      "3. Kết thúc\n",
      "Kết quả từ server: Tổng = 6\n",
      "Kết quả từ server: Tổng = 15\n",
      "Kết quả từ server: Tổng = 24\n",
      "Menu:\n",
      "1. Nhập dữ liệu\n",
      "2. Đọc từ tệp data.txt\n",
      "3. Kết thúc\n",
      "Kết quả từ server: Tổng = 6\n",
      "Kết quả từ server: Tổng = 15\n",
      "Kết quả từ server: Tổng = 24\n",
      "Menu:\n",
      "1. Nhập dữ liệu\n",
      "2. Đọc từ tệp data.txt\n",
      "3. Kết thúc\n"
     ]
    }
   ],
   "source": [
    "import socket\n",
    "\n",
    "\n",
    "client_socket = socket.socket(socket.AF_INET, socket.SOCK_STREAM)\n",
    "\n",
    "server_address = ('localhost', 12345)\n",
    "\n",
    "client_socket.connect(server_address)\n",
    "\n",
    "while True:\n",
    "    print(\"Menu:\")\n",
    "    print(\"1. Nhập dữ liệu\")\n",
    "    print(\"2. Đọc từ tệp data.txt\")\n",
    "    print(\"3. Kết thúc\")\n",
    "    \n",
    "    choice = input(\"Chọn một tùy chọn (1/2/3): \")\n",
    "\n",
    "    if choice == '1':\n",
    "        data = \"\"\n",
    "\n",
    "        while True:\n",
    "            line = input(\"Nhập dãy số (hoặc nhập '.' để kết thúc): \")\n",
    "            if line == \".\":\n",
    "                break\n",
    "            data += line + \"\\n\"\n",
    "\n",
    "        with open(\"data.txt\", \"w\") as file:\n",
    "            file.write(data)\n",
    "                \n",
    "        client_socket.send(data.encode())\n",
    "\n",
    "        result = client_socket.recv(1024).decode()\n",
    "        print(f\"Kết quả từ server: Tổng = {result}\")\n",
    "\n",
    "    elif choice == '2':\n",
    "            with open(\"data.txt\", \"r\") as file:\n",
    "                data = file.read()\n",
    "            client_socket.send(data.encode())\n",
    "\n",
    "            datas = client_socket.recv(1024).decode().split('\\n')\n",
    "            for data in datas:\n",
    "                if data:\n",
    "                    print(f\"Kết quả từ server: Tổng = {data}\")\n",
    "    elif choice == '3':\n",
    "        break\n",
    "\n"
   ]
  }
 ],
 "metadata": {
  "kernelspec": {
   "display_name": "Python 3.10.11 64-bit (microsoft store)",
   "language": "python",
   "name": "python3"
  },
  "language_info": {
   "codemirror_mode": {
    "name": "ipython",
    "version": 3
   },
   "file_extension": ".py",
   "mimetype": "text/x-python",
   "name": "python",
   "nbconvert_exporter": "python",
   "pygments_lexer": "ipython3",
   "version": "3.10.11"
  },
  "orig_nbformat": 4,
  "vscode": {
   "interpreter": {
    "hash": "65a440aeac0c89e2af7569e0aa53b64434c4b69eb6285e2b0d174d9bca190d54"
   }
  }
 },
 "nbformat": 4,
 "nbformat_minor": 2
}
