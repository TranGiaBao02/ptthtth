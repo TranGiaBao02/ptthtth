{
 "cells": [
  {
   "cell_type": "markdown",
   "metadata": {},
   "source": [
    "# Họ và tên: Trần Gia Bảo\n",
    "# MSSV: 20123891\n",
    "# Lớp học phần - Nhóm TH: 420300207401 - Nhóm 1"
   ]
  },
  {
   "cell_type": "markdown",
   "metadata": {},
   "source": [
    "# 1. Hello world!"
   ]
  },
  {
   "cell_type": "code",
   "execution_count": 2,
   "metadata": {},
   "outputs": [
    {
     "name": "stdout",
     "output_type": "stream",
     "text": [
      "Hello world\n"
     ]
    }
   ],
   "source": [
    "print('Hello world')"
   ]
  },
  {
   "cell_type": "markdown",
   "metadata": {},
   "source": [
    "# 2. Program to Add Two Numbers"
   ]
  },
  {
   "cell_type": "markdown",
   "metadata": {},
   "source": [
    "## Add Two Numbers"
   ]
  },
  {
   "cell_type": "code",
   "execution_count": 3,
   "metadata": {},
   "outputs": [
    {
     "name": "stdout",
     "output_type": "stream",
     "text": [
      "7.8\n"
     ]
    }
   ],
   "source": [
    "num1 = 1.5\n",
    "num2 = 6.3\n",
    "\n",
    "### START CODE HERE ### \n",
    "# Add two numbers\n",
    "\n",
    "sum = num1 + num2\n",
    "\n",
    "# Display the sum\n",
    "print(sum)"
   ]
  },
  {
   "cell_type": "markdown",
   "metadata": {},
   "source": [
    "##  Add Two Numbers With User Input"
   ]
  },
  {
   "cell_type": "code",
   "execution_count": 6,
   "metadata": {},
   "outputs": [
    {
     "name": "stdout",
     "output_type": "stream",
     "text": [
      "7\n"
     ]
    }
   ],
   "source": [
    "# Store input numbers\n",
    "num1 = int(input('Nhập số thứ 1: '))\n",
    "num2 = int(input ('Nhập số thứ 2: '))\n",
    "\n",
    "### START CODE HERE ### \n",
    "\n",
    "# Add two numbers\n",
    "sum = num1 + num2\n",
    "\n",
    "### END CODE HERE ###\n",
    "\n",
    "# Display the sum\n",
    "print(sum)"
   ]
  },
  {
   "cell_type": "markdown",
   "metadata": {},
   "source": [
    "# 3. Program to Find the Square Root"
   ]
  },
  {
   "cell_type": "code",
   "execution_count": 10,
   "metadata": {},
   "outputs": [
    {
     "name": "stdout",
     "output_type": "stream",
     "text": [
      "Căn bậc 2 của {num} là {square_root}\n"
     ]
    }
   ],
   "source": [
    "# Python Program to calculate the square root\n",
    "import math\n",
    "# Note: change this value for a different result\n",
    "#num = 8 \n",
    "\n",
    "# To take the input from the user\n",
    "num = float(input('Nhập số: '))\n",
    "\n",
    "# calculate the square root \n",
    "square_root = math.sqrt(num)\n",
    "\n",
    "# print the value of the square root\n",
    "print(f'Căn bậc 2 của {num} là {square_root}')\n"
   ]
  },
  {
   "cell_type": "markdown",
   "metadata": {},
   "source": [
    "# 4. Program to Calculate the Area of a Triangle\n",
    "s = (a+b+c)/2\n",
    "\n",
    "area = √(s(s-a)*(s-b)*(s-c))"
   ]
  },
  {
   "cell_type": "code",
   "execution_count": 16,
   "metadata": {},
   "outputs": [
    {
     "name": "stdout",
     "output_type": "stream",
     "text": [
      "Diện tích của tam giác là: 19.8997487421324\n"
     ]
    }
   ],
   "source": [
    "### START CODE HERE ### \n",
    "import math\n",
    "# take inputs from the user\n",
    "a = int(input('Nhập a: '))\n",
    "b = int(input('Nhập b: '))\n",
    "c = int(input('Nhập c: '))\n",
    "\n",
    "\n",
    "# calculate the semi-perimeter\n",
    "s = (a+b+c)/2\n",
    "\n",
    "# calculate the area\n",
    "area = math.sqrt(s*(s-a)*(s-b)*(s-c))\n",
    "\n",
    "### END CODE HERE ###\n",
    "\n",
    "print(f'Diện tích của tam giác là: {area}')"
   ]
  },
  {
   "cell_type": "markdown",
   "metadata": {},
   "source": [
    "# 5. Program to Solve Quadratic Equation\n",
    "ax2 + bx + c = 0, where a, b and c are real numbers and a ≠ 0"
   ]
  },
  {
   "cell_type": "code",
   "execution_count": 24,
   "metadata": {},
   "outputs": [
    {
     "name": "stdout",
     "output_type": "stream",
     "text": [
      "a phải khác 0\n",
      "Phương trình có hai nghiệm phức: sol1 = (-0.6+0.8j), sol2 = (-0.6-0.8j)\n"
     ]
    }
   ],
   "source": [
    "import cmath\n",
    "import math\n",
    "### START CODE HERE ### \n",
    "\n",
    "# take inputs from the user\n",
    "while True:\n",
    "    try:\n",
    "        a = float(input('Nhập a: '))\n",
    "        if a == 0:\n",
    "            print('a phải khác 0')\n",
    "            continue\n",
    "        b = float(input('Nhập b: '))\n",
    "        c = float(input('Nhập c: '))\n",
    "\n",
    "        # calculate the discriminant\n",
    "        d = b**2 - 4*a*c\n",
    "\n",
    "        # find two solutions using square root for real/complex number\n",
    "        if d>0:\n",
    "            sol1 = (-b + math.sqrt(d)) / (2*a)\n",
    "            sol2 = (-b - math.sqrt(d)) / (2*a)\n",
    "            print(f'Phương trình có 2 nghiệm thực: sol1 = {sol1} và sol2 = {sol2}')\n",
    "        elif d==0:\n",
    "            sol1 = -b / (2*a)\n",
    "            print(f'Phương trình có nghiệm kép: sol1 = {sol1}')\n",
    "        else:\n",
    "            real_part = -b / (2*a)\n",
    "            imaginary_part = math.sqrt(-d) / (2*a)\n",
    "            sol1 = complex(real_part, imaginary_part)\n",
    "            sol2 = complex(real_part, -imaginary_part)\n",
    "            print(f'Phương trình có hai nghiệm phức: sol1 = {sol1}, sol2 = {sol2}')\n",
    "        break\n",
    "        ### END CODE HERE ###\n",
    "    except ValueError:\n",
    "        print(\"Giá trị không hợp lệ. Vui lòng nhập lại.\")\n",
    "        print('The solution are {0} and {1}'.format(sol1,sol2))"
   ]
  },
  {
   "cell_type": "markdown",
   "metadata": {},
   "source": [
    "# 6. Program to Swap Two Variables"
   ]
  },
  {
   "cell_type": "code",
   "execution_count": 25,
   "metadata": {},
   "outputs": [
    {
     "name": "stdout",
     "output_type": "stream",
     "text": [
      "temporary_variable: 1\n",
      "num1: 10 and num2: 1\n"
     ]
    }
   ],
   "source": [
    "# To take inputs from the user\n",
    "num1 = int(input('Nhập số thứ 1: '))\n",
    "num2 = int(input('Nhập số thứ 2: '))\n",
    "\n",
    "# create a temporary variable and swap the values\n",
    "temp = num1\n",
    "num1 = num2\n",
    "num2 = temp\n",
    "# Print the c=value of x, y after swapping\n",
    "print(f'temp: {temp}')\n",
    "print(f'num1: {num1} and num2: {num2}')\n",
    "\n"
   ]
  },
  {
   "cell_type": "code",
   "execution_count": 26,
   "metadata": {},
   "outputs": [
    {
     "name": "stdout",
     "output_type": "stream",
     "text": [
      "After swapping, x = 10 and its memory address is 2099687996208\n",
      "After swapping, y = 1 and its memory address is 2099590487856\n",
      "Temp variable has memory address 2099590487856\n"
     ]
    }
   ],
   "source": [
    "### START CODE HERE ### \n",
    "# To take inputs from the user\n",
    "x = input('Nhập giá trị của x: ')\n",
    "y = input('Nhập giá trị của y: ')\n",
    "\n",
    "# Create a temporary variable and swap the values\n",
    "temp = x\n",
    "x = y\n",
    "y = temp\n",
    "\n",
    "# Print the values and memory addresses of x, y, and temp\n",
    "print(f'Sau khi swap, x = {x} và địa chỉ bộ nhớ của nó là: {id(x)}')\n",
    "print(f'Sau khi swap, y = {y} và địa chỉ bộ nhớ của nó là: {id(y)}')\n",
    "print(f'Biến temp có địa chỉ bộ nhớ: {id(temp)}')\n",
    "\n",
    "### END CODE HERE ###"
   ]
  },
  {
   "cell_type": "markdown",
   "metadata": {},
   "source": [
    "# 7. Program to Generate a Random Number\n",
    "https://docs.python.org/3/library/random.html"
   ]
  },
  {
   "cell_type": "code",
   "execution_count": 65,
   "metadata": {},
   "outputs": [
    {
     "name": "stdout",
     "output_type": "stream",
     "text": [
      "5\n",
      "1\n",
      "7\n",
      "0.4288526906261563\n",
      "5.362566097543708\n"
     ]
    }
   ],
   "source": [
    "# Program to generate a random number between 0 and 9\n",
    "\n",
    "# importing the random module\n",
    "import random\n",
    "\n",
    "print(random.randint(0,9))\n",
    "\n",
    "# Uncomment to try different function in random module\n",
    "print(random.randrange(9))\n",
    "print(random.randrange(3,9))\n",
    "print(random.random())\n",
    "print(random.uniform(a,b))"
   ]
  },
  {
   "cell_type": "markdown",
   "metadata": {},
   "source": [
    "# 8. Program to Convert Kilometers to Miles\n",
    "1 km = (1/1.609344) mi = 0.62137119 mi"
   ]
  },
  {
   "cell_type": "code",
   "execution_count": 68,
   "metadata": {},
   "outputs": [
    {
     "name": "stdout",
     "output_type": "stream",
     "text": [
      "8.37 kilometers is equal to 5.20 miles\n"
     ]
    }
   ],
   "source": [
    "# Taking kilometers input from the user\n",
    "kilometers = float(input(\"Enter value in kilometers: \"))\n",
    "\n",
    "# conversion factor\n",
    "conv_fac = 0.621371\n",
    "\n",
    "# calculate miles\n",
    "miles = kilometers * conv_fac\n",
    "print('%0.2f kilometers is equal to %0.2f miles' %(kilometers,miles))"
   ]
  },
  {
   "cell_type": "code",
   "execution_count": 67,
   "metadata": {},
   "outputs": [
    {
     "name": "stdout",
     "output_type": "stream",
     "text": [
      "5.20 miles bằng 8.37 kilometers\n"
     ]
    }
   ],
   "source": [
    "### START CODE HERE ### \n",
    "# writing code to convert miles to kilometers\n",
    "miles = float(input('Nhập giá trị miles: '))\n",
    "\n",
    "conv_fac = 1.609344\n",
    "\n",
    "kilometers = miles*conv_fac\n",
    "print('%0.2f miles bằng %0.2f kilometers' %(miles,kilometers))\n",
    "### END CODE HERE ###"
   ]
  },
  {
   "cell_type": "markdown",
   "metadata": {},
   "source": [
    "# 9. Program to Convert Celsius To Fahrenheit\n",
    "T(°F) = T(°C) × 1.8 + 32"
   ]
  },
  {
   "cell_type": "code",
   "execution_count": 71,
   "metadata": {},
   "outputs": [
    {
     "name": "stdout",
     "output_type": "stream",
     "text": [
      "Độ C: 5.00 sang độ F: 41.00\n"
     ]
    }
   ],
   "source": [
    "### START CODE HERE ### \n",
    "# Taking celsius input from the user\n",
    "c = float(input('Nhập độ c: '))\n",
    "\n",
    "f = c * 1.8 + 32\n",
    "\n",
    "# print result\n",
    "print('Độ C: %0.2f sang độ F: %0.2f' %(c,f))\n",
    "### END CODE HERE ###"
   ]
  }
 ],
 "metadata": {
  "kernelspec": {
   "display_name": "Python 3.10.11 64-bit (microsoft store)",
   "language": "python",
   "name": "python3"
  },
  "language_info": {
   "codemirror_mode": {
    "name": "ipython",
    "version": 3
   },
   "file_extension": ".py",
   "mimetype": "text/x-python",
   "name": "python",
   "nbconvert_exporter": "python",
   "pygments_lexer": "ipython3",
   "version": "3.10.11"
  },
  "vscode": {
   "interpreter": {
    "hash": "65a440aeac0c89e2af7569e0aa53b64434c4b69eb6285e2b0d174d9bca190d54"
   }
  }
 },
 "nbformat": 4,
 "nbformat_minor": 2
}
