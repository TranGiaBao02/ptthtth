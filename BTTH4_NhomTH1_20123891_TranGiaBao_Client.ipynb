{
 "cells": [
  {
   "cell_type": "code",
   "execution_count": 3,
   "metadata": {},
   "outputs": [
    {
     "name": "stdout",
     "output_type": "stream",
     "text": [
      "b'Cam on ban da ket noi'\n"
     ]
    }
   ],
   "source": [
    "#Client\n",
    "import socket\n",
    "s = socket.socket(socket.AF_INET, socket.SOCK_STREAM)\n",
    "host = socket.gethostname()\n",
    "port = 12345\n",
    "s.connect((host, port))\n",
    "print(s.recv(1024))\n",
    "s.close()"
   ]
  },
  {
   "cell_type": "code",
   "execution_count": 15,
   "metadata": {},
   "outputs": [
    {
     "name": "stdout",
     "output_type": "stream",
     "text": [
      "Nhận từ server: Tran Gia Bao\n"
     ]
    }
   ],
   "source": [
    "import socket\n",
    "\n",
    "def main():\n",
    "    # Quy định thông tin server\n",
    "    server_host = socket.gethostname()  # Địa chỉ IP của máy chủ (localhost)\n",
    "    server_port = 12345       # Cổng kết nối (phải trùng với cổng của server)\n",
    "\n",
    "    # Tạo socket\n",
    "    client_socket = socket.socket(socket.AF_INET, socket.SOCK_STREAM)\n",
    "\n",
    "    # Kết nối tới server\n",
    "    client_socket.connect((server_host, server_port))\n",
    "\n",
    "    # Nhập dữ liệu từ người dùng và gửi đến server\n",
    "    message = input(\"Nhập chuỗi cần gửi đến server: \")\n",
    "    client_socket.send(message.encode('utf-8'))\n",
    "\n",
    "    # Nhận và hiển thị dữ liệu từ server\n",
    "    data = client_socket.recv(1024).decode('utf-8')\n",
    "    print(f\"Nhận từ server: {data}\")\n",
    "\n",
    "    # Đóng kết nối\n",
    "    client_socket.close()\n",
    "\n",
    "if __name__ == \"__main__\":\n",
    "    main()\n"
   ]
  },
  {
   "cell_type": "markdown",
   "metadata": {},
   "source": [
    "Bài 2: Từ thí dụ trên, sinh viên viết lại hệ thống một clientserver theo yêu cầu sau:\n",
    "- Server: lắng nghe trên một port xác định (do sinh viên quy định),\n",
    "chấp nhận yêu cầu kết nối từ một client, hiển thị thông tin client,\n",
    "nhận một chuỗi từ client sau đó chuyển thành chữ hoa và trả chuỗi\n",
    "mới về cho client\n",
    "- Client: kết nối tới server thông qua một port xác định (do sinh\n",
    "viên quy định), gởi chuỗi đến server, nhận chuỗi mới từ server và\n",
    "hiển thị trên màn hình của client"
   ]
  },
  {
   "cell_type": "code",
   "execution_count": 16,
   "metadata": {},
   "outputs": [
    {
     "name": "stdout",
     "output_type": "stream",
     "text": [
      "Nhận từ server (chữ hoa): TRAN GIA BAO\n"
     ]
    }
   ],
   "source": [
    "import socket\n",
    "\n",
    "def main():\n",
    "    # Quy định thông tin server\n",
    "    server_host = socket.gethostname()  # Địa chỉ IP của máy chủ (localhost)\n",
    "    server_port = 12345       # Cổng kết nối (phải trùng với cổng của server)\n",
    "\n",
    "    # Tạo socket\n",
    "    client_socket = socket.socket(socket.AF_INET, socket.SOCK_STREAM)\n",
    "\n",
    "    # Kết nối tới server\n",
    "    client_socket.connect((server_host, server_port))\n",
    "\n",
    "    # Nhập dữ liệu từ người dùng và gửi đến server\n",
    "    message = input(\"Nhập chuỗi cần gửi đến server: \")\n",
    "    client_socket.send(message.encode('utf-8'))\n",
    "\n",
    "    # Nhận và hiển thị dữ liệu từ server\n",
    "    data = client_socket.recv(1024).decode('utf-8')\n",
    "    print(f\"Nhận từ server (chữ hoa): {data}\")\n",
    "\n",
    "    # Đóng kết nối\n",
    "    client_socket.close()\n",
    "\n",
    "if __name__ == \"__main__\":\n",
    "    main()\n"
   ]
  }
 ],
 "metadata": {
  "kernelspec": {
   "display_name": "Python 3.10.11 64-bit (microsoft store)",
   "language": "python",
   "name": "python3"
  },
  "language_info": {
   "codemirror_mode": {
    "name": "ipython",
    "version": 3
   },
   "file_extension": ".py",
   "mimetype": "text/x-python",
   "name": "python",
   "nbconvert_exporter": "python",
   "pygments_lexer": "ipython3",
   "version": "3.10.11"
  },
  "orig_nbformat": 4,
  "vscode": {
   "interpreter": {
    "hash": "65a440aeac0c89e2af7569e0aa53b64434c4b69eb6285e2b0d174d9bca190d54"
   }
  }
 },
 "nbformat": 4,
 "nbformat_minor": 2
}
