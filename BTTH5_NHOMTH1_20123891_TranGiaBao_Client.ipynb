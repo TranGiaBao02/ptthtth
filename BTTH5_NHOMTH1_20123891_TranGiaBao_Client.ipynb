{
 "cells": [
  {
   "cell_type": "code",
   "execution_count": 2,
   "metadata": {},
   "outputs": [
    {
     "name": "stdout",
     "output_type": "stream",
     "text": [
      "Danh sách dịch vụ:\n",
      "1. Đảo ngược chuỗi đồng thời in hoa ký tự đầu của mỗi từ\n",
      "2. Tính tổng chuỗi các số nguyên (khoảng trắng)\n",
      "3. Thoát\n",
      "Nhập chuỗi: \n",
      "Bao Gia Tran\n",
      "Danh sách dịch vụ:\n",
      "1. Đảo ngược chuỗi đồng thời in hoa ký tự đầu của mỗi từ\n",
      "2. Tính tổng chuỗi các số nguyên (khoảng trắng)\n",
      "3. Thoát\n",
      "Lựa chọn không hợp lệ. Vui lòng chọn lại.\n",
      "Danh sách dịch vụ:\n",
      "1. Đảo ngược chuỗi đồng thời in hoa ký tự đầu của mỗi từ\n",
      "2. Tính tổng chuỗi các số nguyên (khoảng trắng)\n",
      "3. Thoát\n"
     ]
    },
    {
     "ename": "ConnectionAbortedError",
     "evalue": "[WinError 10053] An established connection was aborted by the software in your host machine",
     "output_type": "error",
     "traceback": [
      "\u001b[1;31m---------------------------------------------------------------------------\u001b[0m",
      "\u001b[1;31mConnectionAbortedError\u001b[0m                    Traceback (most recent call last)",
      "Cell \u001b[1;32mIn [2], line 41\u001b[0m\n\u001b[0;32m     38\u001b[0m             \u001b[38;5;28mprint\u001b[39m(\u001b[38;5;124m\"\u001b[39m\u001b[38;5;124mLựa chọn không hợp lệ. Vui lòng chọn lại.\u001b[39m\u001b[38;5;124m\"\u001b[39m)\n\u001b[0;32m     40\u001b[0m \u001b[38;5;28;01mif\u001b[39;00m \u001b[38;5;18m__name__\u001b[39m \u001b[38;5;241m==\u001b[39m \u001b[38;5;124m\"\u001b[39m\u001b[38;5;124m__main__\u001b[39m\u001b[38;5;124m\"\u001b[39m:\n\u001b[1;32m---> 41\u001b[0m     \u001b[43mmain\u001b[49m\u001b[43m(\u001b[49m\u001b[43m)\u001b[49m\n",
      "Cell \u001b[1;32mIn [2], line 24\u001b[0m, in \u001b[0;36mmain\u001b[1;34m()\u001b[0m\n\u001b[0;32m     21\u001b[0m     client\u001b[38;5;241m.\u001b[39mclose()\n\u001b[0;32m     22\u001b[0m     \u001b[38;5;28;01mbreak\u001b[39;00m\n\u001b[1;32m---> 24\u001b[0m response \u001b[38;5;241m=\u001b[39m \u001b[43mclient\u001b[49m\u001b[38;5;241;43m.\u001b[39;49m\u001b[43mrecv\u001b[49m\u001b[43m(\u001b[49m\u001b[38;5;241;43m1024\u001b[39;49m\u001b[43m)\u001b[49m\u001b[38;5;241m.\u001b[39mdecode()\n\u001b[0;32m     25\u001b[0m \u001b[38;5;28mprint\u001b[39m(response)\n\u001b[0;32m     27\u001b[0m \u001b[38;5;28;01mif\u001b[39;00m choice \u001b[38;5;241m==\u001b[39m \u001b[38;5;124m\"\u001b[39m\u001b[38;5;124m1\u001b[39m\u001b[38;5;124m\"\u001b[39m:\n",
      "\u001b[1;31mConnectionAbortedError\u001b[0m: [WinError 10053] An established connection was aborted by the software in your host machine"
     ]
    }
   ],
   "source": [
    "import socket\n",
    "\n",
    "def main():\n",
    "    server_ip = \"127.0.0.1\"  # Địa chỉ IP của server\n",
    "    server_port = 8890       # Cổng của server\n",
    "\n",
    "    client = socket.socket(socket.AF_INET, socket.SOCK_STREAM)\n",
    "    client.connect((server_ip, server_port))\n",
    "\n",
    "    while True:\n",
    "        print(\"Danh sách dịch vụ:\")\n",
    "        print(\"1. Đảo ngược chuỗi đồng thời in hoa ký tự đầu của mỗi từ\")\n",
    "        print(\"2. Tính tổng chuỗi các số nguyên (khoảng trắng)\")\n",
    "        print(\"3. Thoát\")\n",
    "        choice = input(\"Chọn dịch vụ (1/2/3): \")\n",
    "\n",
    "        if choice == \"1\" or choice == \"2\" or choice == \"3\":\n",
    "            client.send(choice.encode())\n",
    "\n",
    "            if choice == \"3\":\n",
    "                client.close()\n",
    "                break\n",
    "            \n",
    "            response = client.recv(1024).decode()\n",
    "            print(response)\n",
    "            \n",
    "            if choice == \"1\":\n",
    "                data = input(\"Nhập dữ liệu: \")\n",
    "                client.send(data.encode())\n",
    "                result = client.recv(1024).decode()\n",
    "                print(result)\n",
    "            elif choice == \"2\":\n",
    "                data = input(\"Nhập chuỗi số nguyên (cách nhau bởi khoảng trắng): \")\n",
    "                client.send(data.encode())\n",
    "                result = client.recv(1024).decode()\n",
    "                print(result)\n",
    "        else:\n",
    "            print(\"Lựa chọn không hợp lệ. Vui lòng chọn lại.\")\n",
    "\n",
    "if __name__ == \"__main__\":\n",
    "    main()\n",
    "\n",
    "\n",
    "\n"
   ]
  }
 ],
 "metadata": {
  "kernelspec": {
   "display_name": "Python 3.10.11 64-bit (microsoft store)",
   "language": "python",
   "name": "python3"
  },
  "language_info": {
   "codemirror_mode": {
    "name": "ipython",
    "version": 3
   },
   "file_extension": ".py",
   "mimetype": "text/x-python",
   "name": "python",
   "nbconvert_exporter": "python",
   "pygments_lexer": "ipython3",
   "version": "3.10.11"
  },
  "orig_nbformat": 4,
  "vscode": {
   "interpreter": {
    "hash": "65a440aeac0c89e2af7569e0aa53b64434c4b69eb6285e2b0d174d9bca190d54"
   }
  }
 },
 "nbformat": 4,
 "nbformat_minor": 2
}
