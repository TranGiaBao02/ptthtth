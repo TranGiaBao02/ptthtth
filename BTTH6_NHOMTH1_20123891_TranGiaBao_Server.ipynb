{
 "cells": [
  {
   "cell_type": "code",
   "execution_count": 3,
   "metadata": {},
   "outputs": [
    {
     "name": "stdout",
     "output_type": "stream",
     "text": [
      "Đang lắng nghe kết nối...\n",
      "Kết nối từ ('127.0.0.1', 58982)\n"
     ]
    }
   ],
   "source": [
    "import socket\n",
    "\n",
    "# Tạo một socket server\n",
    "server_socket = socket.socket(socket.AF_INET, socket.SOCK_STREAM)\n",
    "\n",
    "# Xác định địa chỉ và cổng cho server\n",
    "server_address = ('localhost', 12345)\n",
    "\n",
    "# Liên kết server với địa chỉ và cổng\n",
    "server_socket.bind(server_address)\n",
    "\n",
    "# Lắng nghe kết nối từ client\n",
    "server_socket.listen(1)\n",
    "print(\"Đang lắng nghe kết nối...\")\n",
    "\n",
    "while True:\n",
    "    \n",
    "    client_socket, client_address = server_socket.accept()\n",
    "    print(f\"Kết nối từ {client_address}\")\n",
    "    while True:\n",
    "        data = client_socket.recv(1024).decode()\n",
    "\n",
    "        numbers = list(map(int, data.split()))\n",
    "\n",
    "        total = sum(numbers)\n",
    "\n",
    "        client_socket.send(str(total).encode())"
   ]
  }
 ],
 "metadata": {
  "kernelspec": {
   "display_name": "Python 3.10.11 64-bit (microsoft store)",
   "language": "python",
   "name": "python3"
  },
  "language_info": {
   "codemirror_mode": {
    "name": "ipython",
    "version": 3
   },
   "file_extension": ".py",
   "mimetype": "text/x-python",
   "name": "python",
   "nbconvert_exporter": "python",
   "pygments_lexer": "ipython3",
   "version": "3.10.11"
  },
  "orig_nbformat": 4,
  "vscode": {
   "interpreter": {
    "hash": "65a440aeac0c89e2af7569e0aa53b64434c4b69eb6285e2b0d174d9bca190d54"
   }
  }
 },
 "nbformat": 4,
 "nbformat_minor": 2
}
