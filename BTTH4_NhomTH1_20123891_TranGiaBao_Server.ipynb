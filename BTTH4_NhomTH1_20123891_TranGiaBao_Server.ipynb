{
 "cells": [
  {
   "cell_type": "markdown",
   "metadata": {},
   "source": [
    "VÍ DỤ:"
   ]
  },
  {
   "cell_type": "code",
   "execution_count": 1,
   "metadata": {},
   "outputs": [
    {
     "name": "stdout",
     "output_type": "stream",
     "text": [
      "Da chap nhan ket noi tu  ('26.190.171.13', 18357)\n"
     ]
    }
   ],
   "source": [
    "import socket\n",
    "s = socket.socket(socket.AF_INET, socket.SOCK_STREAM)\n",
    "host = socket.gethostname()\n",
    "port = 12345\n",
    "s.bind((host, port))\n",
    "s.listen(5)\n",
    "while True:\n",
    " c, addr = s.accept()\n",
    " print(\"Da chap nhan ket noi tu \", addr)\n",
    " output = \"Cam on ban da ket noi\"\n",
    " c.sendall(output.encode(\"utf-8\"))\n",
    " c.close()\n"
   ]
  },
  {
   "cell_type": "markdown",
   "metadata": {},
   "source": [
    "BÀI 1:Từ thí dụ trên, sinh viên viết 1 echo-server theo yêu cầu\n",
    "sau:\n",
    "- Server: lắng nghe trên một port xác định (do sinh viên quy định),\n",
    "chấp nhận yêu cầu kết nối từ một client, hiển thị thông tin client,\n",
    "nhận một chuỗi từ client sau đó chuyển trả lại cho client\n",
    "- Client: kết nối tới server thông qua một port xác định (do sinh\n",
    "viên quy định), gởi chuỗi đến server, nhận chuỗi mới từ server và\n",
    "hiển thị trên màn hình của client"
   ]
  },
  {
   "cell_type": "code",
   "execution_count": 1,
   "metadata": {},
   "outputs": [
    {
     "name": "stdout",
     "output_type": "stream",
     "text": [
      "Server đang lắng nghe trên GiaBao270802:12345\n",
      "Kết nối mới từ ('26.190.171.13', 61719)\n",
      "Nhận từ client: gia bao\n",
      "Kết nối mới từ ('26.190.171.13', 61723)\n",
      "Nhận từ client: a\n",
      "Kết nối mới từ ('26.190.171.13', 61726)\n",
      "Nhận từ client: Tran Gia Bao\n"
     ]
    }
   ],
   "source": [
    "import socket\n",
    "\n",
    "def main():\n",
    "    # Quy định thông tin server\n",
    "    host = socket.gethostname() # Địa chỉ IP của máy chủ (localhost)\n",
    "    port = 12345       # Cổng kết nối (có thể thay đổi)\n",
    "\n",
    "    # Tạo socket\n",
    "    server_socket = socket.socket(socket.AF_INET, socket.SOCK_STREAM)\n",
    "\n",
    "    # Liên kết socket với địa chỉ và cổng\n",
    "    server_socket.bind((host, port))\n",
    "\n",
    "    # Lắng nghe kết nối\n",
    "    server_socket.listen(5)\n",
    "    print(f\"Server đang lắng nghe trên {host}:{port}\")\n",
    "\n",
    "    while True:\n",
    "        # Chấp nhận kết nối từ client\n",
    "        client_socket, addr = server_socket.accept()\n",
    "        print(f\"Kết nối mới từ {addr}\")\n",
    "\n",
    "        # Nhận dữ liệu từ client\n",
    "        data = client_socket.recv(1024).decode('utf-8')\n",
    "        print(f\"Nhận từ client: {data}\")\n",
    "\n",
    "        # Gửi dữ liệu nhận được từ client trở lại cho client\n",
    "        client_socket.send(data.encode('utf-8'))\n",
    "\n",
    "        # Đóng kết nối với client\n",
    "        client_socket.close()\n",
    "\n",
    "if __name__ == \"__main__\":\n",
    "    main()\n"
   ]
  },
  {
   "cell_type": "markdown",
   "metadata": {},
   "source": [
    "Bài 2: Từ thí dụ trên, sinh viên viết lại hệ thống một clientserver theo yêu cầu sau:\n",
    "- Server: lắng nghe trên một port xác định (do sinh viên quy định),\n",
    "chấp nhận yêu cầu kết nối từ một client, hiển thị thông tin client,\n",
    "nhận một chuỗi từ client sau đó chuyển thành chữ hoa và trả chuỗi\n",
    "mới về cho client\n",
    "- Client: kết nối tới server thông qua một port xác định (do sinh\n",
    "viên quy định), gởi chuỗi đến server, nhận chuỗi mới từ server và\n",
    "hiển thị trên màn hình của client"
   ]
  },
  {
   "cell_type": "code",
   "execution_count": 1,
   "metadata": {},
   "outputs": [
    {
     "name": "stdout",
     "output_type": "stream",
     "text": [
      "Server đang lắng nghe trên GiaBao270802:12345\n",
      "Kết nối mới từ ('26.190.171.13', 61816)\n",
      "Nhận từ client: tran gia bao\n"
     ]
    }
   ],
   "source": [
    "import socket\n",
    "\n",
    "def main():\n",
    "    # Quy định thông tin server\n",
    "    host = socket.gethostname() # Địa chỉ IP của máy chủ (localhost)\n",
    "    port = 12345       # Cổng kết nối (có thể thay đổi)\n",
    "\n",
    "    # Tạo socket\n",
    "    server_socket = socket.socket(socket.AF_INET, socket.SOCK_STREAM)\n",
    "\n",
    "    # Liên kết socket với địa chỉ và cổng\n",
    "    server_socket.bind((host, port))\n",
    "\n",
    "    # Lắng nghe kết nối\n",
    "    server_socket.listen(5)\n",
    "    print(f\"Server đang lắng nghe trên {host}:{port}\")\n",
    "\n",
    "    while True:\n",
    "        # Chấp nhận kết nối từ client\n",
    "        client_socket, addr = server_socket.accept()\n",
    "        print(f\"Kết nối mới từ {addr}\")\n",
    "\n",
    "        # Nhận dữ liệu từ client\n",
    "        data = client_socket.recv(1024).decode('utf-8')\n",
    "        print(f\"Nhận từ client: {data}\")\n",
    "\n",
    "\n",
    "        data_upper = data.upper()\n",
    "        client_socket.send(data_upper.encode('utf-8'))\n",
    "\n",
    "        # Đóng kết nối với client\n",
    "        client_socket.close()\n",
    "\n",
    "if __name__ == \"__main__\":\n",
    "    main()\n"
   ]
  }
 ],
 "metadata": {
  "kernelspec": {
   "display_name": "Python 3.10.11 64-bit (microsoft store)",
   "language": "python",
   "name": "python3"
  },
  "language_info": {
   "codemirror_mode": {
    "name": "ipython",
    "version": 3
   },
   "file_extension": ".py",
   "mimetype": "text/x-python",
   "name": "python",
   "nbconvert_exporter": "python",
   "pygments_lexer": "ipython3",
   "version": "3.10.11"
  },
  "orig_nbformat": 4,
  "vscode": {
   "interpreter": {
    "hash": "65a440aeac0c89e2af7569e0aa53b64434c4b69eb6285e2b0d174d9bca190d54"
   }
  }
 },
 "nbformat": 4,
 "nbformat_minor": 2
}
